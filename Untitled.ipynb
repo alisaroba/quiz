source_url = "www.islamguide.eu/islam/"

question1 = {
    "question": "What is the central religious text in Islam, considered by Muslims to be the verbatim word of God?",
    "options": ["A) Bible", "B) Torah", "C) Quran", "D) Vedas"],
    "correct_option": "C) Quran",
    "source": source_url
}

question2 = {
    "question": "During which month of the Islamic lunar calendar do Muslims fast from sunrise to sunset as one of the Five Pillars of Islam?",
    "options": ["A) Shawwal", "B) Rajab", "C) Ramadan", "D) Dhul-Hijjah"],
    "correct_option": "C) Ramadan",
    "source": source_url
}

question3 = {
    "question": "What is the pilgrimage to Mecca that every Muslim is required to undertake at least once in their lifetime if financially and physically able?",
    "options": ["A) Umrah", "B) Hajj", "C) Ziyarat", "D) Tawaf"],
    "correct_option": "B) Hajj",
    "source": source_url
}

# Print questions
for i, question in enumerate([question1, question2, question3], start=1):
    print(f"\nQuestion {i}: {question['question']}")
    for option in question['options']:
        print(option)
    print(f"Correct Answer: {question['correct_option']}")
    print(f"Source: {question['source']}")
