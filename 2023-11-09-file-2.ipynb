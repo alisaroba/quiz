{
 "cells": [
  {
   "cell_type": "code",
   "execution_count": 4,
   "metadata": {
    "collapsed": false
   },
   "outputs": [
    {
     "name": "stdout",
     "output_type": "stream",
     "text": [
      "\n",
      "Question 1: What is the central religious text in Islam, considered by Muslims to be the verbatim word of God?\n",
      "A) Bible\n",
      "B) Torah\n",
      "C) Quran\n",
      "D) Vedas\n",
      "Correct Answer: C) Quran\n",
      "Source: www.islamguide.eu/islam/\n",
      "\n",
      "Question 2: During which month of the Islamic lunar calendar do Muslims fast from sunrise to sunset as one of the Five Pillars of Islam?\n",
      "A) Shawwal\n",
      "B) Rajab\n",
      "C) Ramadan\n",
      "D) Dhul-Hijjah\n",
      "Correct Answer: C) Ramadan\n",
      "Source: www.islamguide.eu/islam/\n",
      "\n",
      "Question 3: What is the pilgrimage to Mecca that every Muslim is required to undertake at least once in their lifetime if financially and physically able?\n",
      "A) Umrah\n",
      "B) Hajj\n",
      "C) Ziyarat\n",
      "D) Tawaf\n",
      "Correct Answer: B) Hajj\n",
      "Source: www.islamguide.eu/islam/\n"
     ]
    }
   ],
   "source": [
    "source_url = \"www.islamguide.eu/islam/\"\n",
    "\n",
    "question1 = {\n",
    "    \"question\": \"What is the central religious text in Islam, considered by Muslims to be the verbatim word of God?\",\n",
    "    \"options\": [\"A) Bible\", \"B) Torah\", \"C) Quran\", \"D) Vedas\"],\n",
    "    \"correct_option\": \"C) Quran\",\n",
    "    \"source\": source_url\n",
    "}\n",
    "\n",
    "question2 = {\n",
    "    \"question\": \"During which month of the Islamic lunar calendar do Muslims fast from sunrise to sunset as one of the Five Pillars of Islam?\",\n",
    "    \"options\": [\"A) Shawwal\", \"B) Rajab\", \"C) Ramadan\", \"D) Dhul-Hijjah\"],\n",
    "    \"correct_option\": \"C) Ramadan\",\n",
    "    \"source\": source_url\n",
    "}\n",
    "\n",
    "question3 = {\n",
    "    \"question\": \"What is the pilgrimage to Mecca that every Muslim is required to undertake at least once in their lifetime if financially and physically able?\",\n",
    "    \"options\": [\"A) Umrah\", \"B) Hajj\", \"C) Ziyarat\", \"D) Tawaf\"],\n",
    "    \"correct_option\": \"B) Hajj\",\n",
    "    \"source\": source_url\n",
    "}\n",
    "\n",
    "# Print questions\n",
    "for i, question in enumerate([question1, question2, question3], start=1):\n",
    "    print(f\"\\nQuestion {i}: {question['question']}\")\n",
    "    for option in question['options']:\n",
    "        print(option)\n",
    "    print(f\"Correct Answer: {question['correct_option']}\")\n",
    "    print(f\"Source: {question['source']}\")\n"
   ]
  },
  {
   "cell_type": "code",
   "execution_count": 0,
   "metadata": {
    "collapsed": false
   },
   "outputs": [
   ],
   "source": [
   ]
  }
 ],
 "metadata": {
  "kernelspec": {
   "argv": [
    "/usr/bin/python3",
    "-m",
    "ipykernel",
    "--HistoryManager.enabled=False",
    "--matplotlib=inline",
    "-c",
    "%config InlineBackend.figure_formats = set(['retina'])\nimport matplotlib; matplotlib.rcParams['figure.figsize'] = (12, 7)",
    "-f",
    "{connection_file}"
   ],
   "display_name": "Python 3 (system-wide)",
   "env": {
   },
   "language": "python",
   "metadata": {
    "cocalc": {
     "description": "Python 3 programming language",
     "priority": 100,
     "url": "https://www.python.org/"
    }
   },
   "name": "python3",
   "resource_dir": "/ext/jupyter/kernels/python3"
  }
 },
 "nbformat": 4,
 "nbformat_minor": 4
}